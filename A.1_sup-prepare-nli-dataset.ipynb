{
 "cells": [
  {
   "cell_type": "markdown",
   "id": "a528e5aa-b945-4d13-9531-65446aa6838e",
   "metadata": {},
   "source": [
    "# Training dataset preparation for Supervised KoSimCSE\n",
    "---"
   ]
  },
  {
   "cell_type": "code",
   "execution_count": 4,
   "id": "e206efe9-7ad3-408c-9338-d8e16c12b52b",
   "metadata": {
    "tags": []
   },
   "outputs": [],
   "source": [
    "!pip install -r src/requirements.txt"
   ]
  },
  {
   "cell_type": "code",
   "execution_count": 1,
   "id": "52447b8f-3eb1-46e6-a184-20e5be0bf9dc",
   "metadata": {
    "tags": []
   },
   "outputs": [],
   "source": [
    "import os\n",
    "import numpy as np\n",
    "import pandas as pd\n",
    "from transformers import AutoTokenizer\n",
    "from datasets import load_dataset, Dataset, DatasetDict"
   ]
  },
  {
   "cell_type": "code",
   "execution_count": 2,
   "id": "afe1a769-5444-4476-a52a-801985c67b41",
   "metadata": {
    "tags": []
   },
   "outputs": [],
   "source": [
    "def get_nli_df(dataset):\n",
    "    df = pd.DataFrame(list(zip(dataset['premise'], dataset['hypothesis'], dataset['label'])), columns =['premise', 'hypothesis', 'label'])\n",
    "    return df\n",
    "\n",
    "def prepare_features(examples, tokenizer, max_seq_len):\n",
    "    # padding = longest (default)\n",
    "    #   If no sentence in the batch exceed the max length, then use\n",
    "    #   the max sentence length in the batch, otherwise use the \n",
    "    #   max sentence length in the argument and truncate those that\n",
    "    #   exceed the max length.\n",
    "    # padding = max_length (when pad_to_max_length, for pressure test)\n",
    "    #   All sentences are padded/truncated to data_args.max_seq_length.\n",
    "    sent0_cname = \"premise\"\n",
    "    sent1_cname = \"entailment\"\n",
    "    sent2_cname = \"contradiction\"\n",
    "    total = len(examples[sent0_cname])\n",
    "\n",
    "    # Avoid \"None\" fields \n",
    "    for idx in range(total):\n",
    "        if examples[sent0_cname][idx] is None:\n",
    "            examples[sent0_cname][idx] = \" \"\n",
    "        if examples[sent1_cname][idx] is None:\n",
    "            examples[sent1_cname][idx] = \" \"\n",
    "\n",
    "    sentences = examples[sent0_cname] + examples[sent1_cname]\n",
    "\n",
    "    # If hard negative exists\n",
    "    if sent2_cname is not None:\n",
    "        for idx in range(total):\n",
    "            if examples[sent2_cname][idx] is None:\n",
    "                examples[sent2_cname][idx] = \" \"\n",
    "        sentences += examples[sent2_cname]\n",
    "\n",
    "    sent_features = tokenizer(\n",
    "        sentences,\n",
    "        max_length=max_seq_len,\n",
    "        truncation=True,\n",
    "        padding=\"max_length\" #if args.pad_to_max_length else False,\n",
    "    )\n",
    "\n",
    "    features = {}\n",
    "    if sent2_cname is not None:\n",
    "        for key in sent_features:\n",
    "            features[key] = [[sent_features[key][i], sent_features[key][i+total], sent_features[key][i+total*2]] for i in range(total)]\n",
    "    else:\n",
    "        for key in sent_features:\n",
    "            features[key] = [[sent_features[key][i], sent_features[key][i+total]] for i in range(total)]\n",
    "\n",
    "    return features"
   ]
  },
  {
   "cell_type": "code",
   "execution_count": 3,
   "id": "dfe95f89-22fa-41a4-8ff3-c9a570ef42fe",
   "metadata": {
    "tags": []
   },
   "outputs": [],
   "source": [
    "# klue-nli\n",
    "klue_trn_dataset = load_dataset(\"klue\", \"nli\", split=\"train\")\n",
    "klue_vld_dataset = load_dataset(\"klue\", \"nli\", split=\"validation\")\n",
    "klue_trn_df = get_nli_df(klue_trn_dataset)\n",
    "klue_vld_df = get_nli_df(klue_vld_dataset)\n",
    "\n",
    "# muli-nli\n",
    "mnli_trn_dataset = load_dataset(\"kor_nli\", \"multi_nli\", split=\"train\")\n",
    "mnli_trn_df = get_nli_df(mnli_trn_dataset)\n",
    "\n",
    "# snli\n",
    "snli_trn_dataset = load_dataset(\"kor_nli\", \"snli\", split=\"train\")\n",
    "snli_trn_df = get_nli_df(snli_trn_dataset)\n",
    "\n",
    "# xnli\n",
    "xnli_vld_dataset = load_dataset(\"kor_nli\", \"xnli\", split=\"validation\")\n",
    "xnli_tst_dataset = load_dataset(\"kor_nli\", \"xnli\", split=\"test\")\n",
    "xnli_vld_df = get_nli_df(xnli_vld_dataset)\n",
    "xnli_tst_df = get_nli_df(xnli_tst_dataset)"
   ]
  },
  {
   "cell_type": "code",
   "execution_count": 4,
   "id": "6cd10fbd-ab1c-4f0e-a2e8-e177412ac20c",
   "metadata": {
    "tags": []
   },
   "outputs": [],
   "source": [
    "df = pd.concat([klue_trn_df, klue_vld_df, mnli_trn_df, snli_trn_df, xnli_vld_df, xnli_tst_df], axis=0, ignore_index=True)"
   ]
  },
  {
   "cell_type": "code",
   "execution_count": 5,
   "id": "631bc6e5-ad3f-465b-9ef7-9c2fbcba34ad",
   "metadata": {
    "tags": []
   },
   "outputs": [],
   "source": [
    "df_positive = df[df['label'] == 0].copy() # entailment\n",
    "df_negative = df[df['label'] == 2].copy() # contracition\n",
    "\n",
    "df_positive = df_positive.set_index('premise')\n",
    "df_negative = df_negative.set_index('premise')\n",
    "df_join = df_positive.join(df_negative, rsuffix='_y')\n",
    "df_join = df_join.reset_index()\n",
    "df_join.drop(['label', 'label_y'], axis=1, inplace=True)\n",
    "column_names = ['premise', 'entailment', 'contradiction']\n",
    "df_join.columns = column_names"
   ]
  },
  {
   "cell_type": "code",
   "execution_count": 6,
   "id": "de9518bb-912c-4651-bc97-da8c90131e4e",
   "metadata": {
    "tags": []
   },
   "outputs": [
    {
     "data": {
      "text/html": [
       "<div>\n",
       "<style scoped>\n",
       "    .dataframe tbody tr th:only-of-type {\n",
       "        vertical-align: middle;\n",
       "    }\n",
       "\n",
       "    .dataframe tbody tr th {\n",
       "        vertical-align: top;\n",
       "    }\n",
       "\n",
       "    .dataframe thead th {\n",
       "        text-align: right;\n",
       "    }\n",
       "</style>\n",
       "<table border=\"1\" class=\"dataframe\">\n",
       "  <thead>\n",
       "    <tr style=\"text-align: right;\">\n",
       "      <th></th>\n",
       "      <th>premise</th>\n",
       "      <th>entailment</th>\n",
       "      <th>contradiction</th>\n",
       "    </tr>\n",
       "  </thead>\n",
       "  <tbody>\n",
       "    <tr>\n",
       "      <th>0</th>\n",
       "      <td>! LSC 보조금 수령자가 매년 제공하는 총 인원은 CSR(Case Service ...</td>\n",
       "      <td>LSC 보조금은 CSR에 보고된 것보다 여러 배나 더 많은 서비스를 제공한다.</td>\n",
       "      <td>LSC 보조금은 CSR에 보고된 것보다 몇 배나 적게 지급된다.</td>\n",
       "    </tr>\n",
       "    <tr>\n",
       "      <th>1</th>\n",
       "      <td>! LSC 보조금 수령자들이 만든 파트너십과 그들이 시행한 광범위한 해결책을 통해 ...</td>\n",
       "      <td>파트너십을 통해 그들은 다양한 해결책을 만들어냈다.</td>\n",
       "      <td>LSC 지원자들은 그들의 지역사회에 기여하지 않고 있다.</td>\n",
       "    </tr>\n",
       "    <tr>\n",
       "      <th>2</th>\n",
       "      <td>! 개선된 지침입니다.</td>\n",
       "      <td>지침이 개선되었다</td>\n",
       "      <td>지침은 혼자 남겨졌다.</td>\n",
       "    </tr>\n",
       "    <tr>\n",
       "      <th>3</th>\n",
       "      <td>! 그는 만족스럽게 말했다.</td>\n",
       "      <td>그는 무슨 말을 하고 만족했다.</td>\n",
       "      <td>그는 만족하지 못했다.</td>\n",
       "    </tr>\n",
       "    <tr>\n",
       "      <th>4</th>\n",
       "      <td>! 동료 프로그램 관리자가 사용하고 있는 방법의 범위에 대해 수혜자에게 알리고, 더...</td>\n",
       "      <td>그들은 프로그램 관리자들이 어떤 방법을 사용하는지에 대해 보조금 지급자들에게 알려준다.</td>\n",
       "      <td>그들은 프로그램 관리자들이 어떤 방법을 사용하는지 보조금 수령자에게 알릴 수 없다.</td>\n",
       "    </tr>\n",
       "  </tbody>\n",
       "</table>\n",
       "</div>"
      ],
      "text/plain": [
       "                                             premise  \\\n",
       "0  ! LSC 보조금 수령자가 매년 제공하는 총 인원은 CSR(Case Service ...   \n",
       "1  ! LSC 보조금 수령자들이 만든 파트너십과 그들이 시행한 광범위한 해결책을 통해 ...   \n",
       "2                                       ! 개선된 지침입니다.   \n",
       "3                                    ! 그는 만족스럽게 말했다.   \n",
       "4  ! 동료 프로그램 관리자가 사용하고 있는 방법의 범위에 대해 수혜자에게 알리고, 더...   \n",
       "\n",
       "                                         entailment  \\\n",
       "0       LSC 보조금은 CSR에 보고된 것보다 여러 배나 더 많은 서비스를 제공한다.   \n",
       "1                      파트너십을 통해 그들은 다양한 해결책을 만들어냈다.   \n",
       "2                                         지침이 개선되었다   \n",
       "3                                 그는 무슨 말을 하고 만족했다.   \n",
       "4  그들은 프로그램 관리자들이 어떤 방법을 사용하는지에 대해 보조금 지급자들에게 알려준다.   \n",
       "\n",
       "                                    contradiction  \n",
       "0             LSC 보조금은 CSR에 보고된 것보다 몇 배나 적게 지급된다.  \n",
       "1                 LSC 지원자들은 그들의 지역사회에 기여하지 않고 있다.  \n",
       "2                                    지침은 혼자 남겨졌다.  \n",
       "3                                    그는 만족하지 못했다.  \n",
       "4  그들은 프로그램 관리자들이 어떤 방법을 사용하는지 보조금 수령자에게 알릴 수 없다.  "
      ]
     },
     "execution_count": 6,
     "metadata": {},
     "output_type": "execute_result"
    }
   ],
   "source": [
    "df_join.head()"
   ]
  },
  {
   "cell_type": "code",
   "execution_count": 7,
   "id": "f2a36807-c02a-4548-84fc-aa5049803824",
   "metadata": {
    "tags": []
   },
   "outputs": [],
   "source": [
    "base_model = \"klue/roberta-base\"\n",
    "dataset_dir = \"dataset-sup-train\"\n",
    "max_seq_len = 64"
   ]
  },
  {
   "cell_type": "code",
   "execution_count": 8,
   "id": "7a77511f-c9d1-49f8-bd54-2040195b8e16",
   "metadata": {
    "tags": []
   },
   "outputs": [
    {
     "data": {
      "application/vnd.jupyter.widget-view+json": {
       "model_id": "957f3f3c6cf4432f8c94c775c3411e83",
       "version_major": 2,
       "version_minor": 0
      },
      "text/plain": [
       "Map (num_proc=96):   0%|          | 0/499221 [00:00<?, ? examples/s]"
      ]
     },
     "metadata": {},
     "output_type": "display_data"
    }
   ],
   "source": [
    "datasets = Dataset.from_pandas(df_join)\n",
    "tokenizer = AutoTokenizer.from_pretrained(base_model)\n",
    "\n",
    "train_dataset = datasets.map(\n",
    "    prepare_features,\n",
    "    fn_kwargs={\"tokenizer\": tokenizer, \"max_seq_len\": max_seq_len},\n",
    "    batched=True,\n",
    "    num_proc=os.cpu_count(),\n",
    "    remove_columns=column_names,\n",
    "    #load_from_cache_file=not data_args.overwrite_cache,\n",
    ")"
   ]
  },
  {
   "cell_type": "code",
   "execution_count": 9,
   "id": "da393f1e-2f40-4f7a-b495-68b7dd77b00a",
   "metadata": {
    "tags": []
   },
   "outputs": [
    {
     "data": {
      "application/vnd.jupyter.widget-view+json": {
       "model_id": "3bb1c3a3716e4f9b8c94268d22294748",
       "version_major": 2,
       "version_minor": 0
      },
      "text/plain": [
       "Saving the dataset (0/2 shards):   0%|          | 0/499221 [00:00<?, ? examples/s]"
      ]
     },
     "metadata": {},
     "output_type": "display_data"
    }
   ],
   "source": [
    "os.makedirs(dataset_dir, exist_ok=True)\n",
    "train_dataset.save_to_disk(dataset_dir)\n",
    "\n",
    "# from datasets import load_from_disk\n",
    "# train_dataset = load_from_disk(dataset_dir)"
   ]
  }
 ],
 "metadata": {
  "kernelspec": {
   "display_name": "conda_pytorch_p310",
   "language": "python",
   "name": "conda_pytorch_p310"
  },
  "language_info": {
   "codemirror_mode": {
    "name": "ipython",
    "version": 3
   },
   "file_extension": ".py",
   "mimetype": "text/x-python",
   "name": "python",
   "nbconvert_exporter": "python",
   "pygments_lexer": "ipython3",
   "version": "3.10.12"
  }
 },
 "nbformat": 4,
 "nbformat_minor": 5
}
