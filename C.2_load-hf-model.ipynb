{
 "cells": [
  {
   "cell_type": "code",
   "execution_count": 5,
   "id": "47796c82-76d2-417b-8bf4-8d4aa4f52c06",
   "metadata": {
    "tags": []
   },
   "outputs": [
    {
     "data": {
      "application/vnd.jupyter.widget-view+json": {
       "model_id": "564071aaf35849b49019bd22aa635c4d",
       "version_major": 2,
       "version_minor": 0
      },
      "text/plain": [
       "Downloading (…)lve/main/config.json:   0%|          | 0.00/582 [00:00<?, ?B/s]"
      ]
     },
     "metadata": {},
     "output_type": "display_data"
    },
    {
     "data": {
      "application/vnd.jupyter.widget-view+json": {
       "model_id": "79e67c1ab8ad4365993960aa19b8f057",
       "version_major": 2,
       "version_minor": 0
      },
      "text/plain": [
       "Downloading model.safetensors:   0%|          | 0.00/1.35G [00:00<?, ?B/s]"
      ]
     },
     "metadata": {},
     "output_type": "display_data"
    },
    {
     "name": "stderr",
     "output_type": "stream",
     "text": [
      "Some weights of RobertaModel were not initialized from the model checkpoint at klue/roberta-large and are newly initialized: ['roberta.pooler.dense.weight', 'roberta.pooler.dense.bias']\n",
      "You should probably TRAIN this model on a down-stream task to be able to use it for predictions and inference.\n"
     ]
    },
    {
     "data": {
      "application/vnd.jupyter.widget-view+json": {
       "model_id": "144e46b661234f618b0c7da4b0d669ea",
       "version_major": 2,
       "version_minor": 0
      },
      "text/plain": [
       "Downloading (…)okenizer_config.json:   0%|          | 0.00/415 [00:00<?, ?B/s]"
      ]
     },
     "metadata": {},
     "output_type": "display_data"
    },
    {
     "data": {
      "application/vnd.jupyter.widget-view+json": {
       "model_id": "a74a11038d304133b62d893a940830e9",
       "version_major": 2,
       "version_minor": 0
      },
      "text/plain": [
       "Downloading (…)solve/main/vocab.txt:   0%|          | 0.00/248k [00:00<?, ?B/s]"
      ]
     },
     "metadata": {},
     "output_type": "display_data"
    },
    {
     "data": {
      "application/vnd.jupyter.widget-view+json": {
       "model_id": "7fedc556077d48abb0aeb1f737e29ccb",
       "version_major": 2,
       "version_minor": 0
      },
      "text/plain": [
       "Downloading (…)/main/tokenizer.json:   0%|          | 0.00/752k [00:00<?, ?B/s]"
      ]
     },
     "metadata": {},
     "output_type": "display_data"
    },
    {
     "data": {
      "application/vnd.jupyter.widget-view+json": {
       "model_id": "379619dcba934c6da5f35faf9f04bed8",
       "version_major": 2,
       "version_minor": 0
      },
      "text/plain": [
       "Downloading (…)cial_tokens_map.json:   0%|          | 0.00/173 [00:00<?, ?B/s]"
      ]
     },
     "metadata": {},
     "output_type": "display_data"
    }
   ],
   "source": [
    "from transformers import AutoModel, AutoTokenizer\n",
    "from serving_src.model import SimCSEModel\n",
    "model = SimCSEModel.from_pretrained(\"daekeun-ml/KoSimCSE-supervised-roberta-large\") \n",
    "tokenizer = AutoTokenizer.from_pretrained(\"daekeun-ml/KoSimCSE-supervised-roberta-large\") "
   ]
  },
  {
   "cell_type": "code",
   "execution_count": 6,
   "id": "b104c61f-ca03-49a4-a2c0-2d15972660e6",
   "metadata": {
    "tags": []
   },
   "outputs": [
    {
     "name": "stdout",
     "output_type": "stream",
     "text": [
      "tensor([[92.9861]], grad_fn=<MulBackward0>) tensor([[83.0575]], grad_fn=<MulBackward0>)\n"
     ]
    }
   ],
   "source": [
    "from src.infer import show_embedding_score\n",
    "sentences = ['이번 주 일요일에 분당 이마트 점은 문을 여나요?',\n",
    "             '일요일에 분당 이마트는 문 열어요?',\n",
    "             '분당 이마트 점은 토요일에 몇 시까지 하나요']\n",
    "show_embedding_score(tokenizer, model.cpu(), sentences)"
   ]
  },
  {
   "cell_type": "code",
   "execution_count": 7,
   "id": "35d4cd8d-e055-4c99-9ad7-fc6ea26d0af6",
   "metadata": {
    "tags": []
   },
   "outputs": [
    {
     "name": "stderr",
     "output_type": "stream",
     "text": [
      "                                             \r"
     ]
    }
   ],
   "source": [
    "import torch\n",
    "from typing import List\n",
    "from src.sts import STSEvaluation\n",
    "from more_itertools import chunked\n",
    "batch_size = 128\n",
    "device = torch.device('cuda:0' if torch.cuda.is_available() else 'cpu')\n",
    "model = model.to(device)\n",
    "\n",
    "@torch.inference_mode()\n",
    "def encode(texts: List[str]) -> torch.Tensor:\n",
    "    embs = []\n",
    "    for text in chunked(texts, batch_size):\n",
    "        batch: BatchEncoding = tokenizer(\n",
    "            text,\n",
    "            padding=True,\n",
    "            truncation=True,\n",
    "            return_tensors=\"pt\",\n",
    "        )\n",
    "        emb = model(**batch.to(device))#, use_mlp=False)\n",
    "        embs.append(emb.cpu())\n",
    "    return torch.cat(embs, dim=0)\n",
    "\n",
    "evaluation = STSEvaluation()\n",
    "sts_metrics = evaluation(encode=encode)"
   ]
  },
  {
   "cell_type": "code",
   "execution_count": 8,
   "id": "1b437923-3969-45ae-87af-f83f2470d9d6",
   "metadata": {
    "tags": []
   },
   "outputs": [
    {
     "data": {
      "text/plain": [
       "{'kluests': {'avg': 85.37528732765182,\n",
       "  'cosine_pearson': 84.38099504950435,\n",
       "  'cosine_spearman': 85.99332894481987,\n",
       "  'euclidean_pearson': 85.97399708011103,\n",
       "  'euclidean_spearman': 85.81717953035523,\n",
       "  'manhattan_pearson': 86.00645758238008,\n",
       "  'manhattan_spearman': 85.79909839437714,\n",
       "  'dot_pearson': 83.87166724324983,\n",
       "  'dot_spearman': 85.15957479641696},\n",
       " 'korsts': {'avg': 85.54992865436176,\n",
       "  'cosine_pearson': 85.41847400009277,\n",
       "  'cosine_spearman': 85.78030194600866,\n",
       "  'euclidean_pearson': 85.18741301134143,\n",
       "  'euclidean_spearman': 85.51742862510163,\n",
       "  'manhattan_pearson': 85.26303943156756,\n",
       "  'manhattan_spearman': 85.61542163893404,\n",
       "  'dot_pearson': 85.7090813794869,\n",
       "  'dot_spearman': 85.90826920236108}}"
      ]
     },
     "metadata": {},
     "output_type": "display_data"
    }
   ],
   "source": [
    "display(sts_metrics)"
   ]
  }
 ],
 "metadata": {
  "kernelspec": {
   "display_name": "conda_pytorch_p310",
   "language": "python",
   "name": "conda_pytorch_p310"
  },
  "language_info": {
   "codemirror_mode": {
    "name": "ipython",
    "version": 3
   },
   "file_extension": ".py",
   "mimetype": "text/x-python",
   "name": "python",
   "nbconvert_exporter": "python",
   "pygments_lexer": "ipython3",
   "version": "3.10.12"
  }
 },
 "nbformat": 4,
 "nbformat_minor": 5
}
