{
 "cells": [
  {
   "cell_type": "markdown",
   "id": "49692f65-1a10-4ec1-b2cd-ffc9e5567fa6",
   "metadata": {},
   "source": [
    "\n",
    "## 1. Load trained model\n",
    "---"
   ]
  },
  {
   "cell_type": "code",
   "execution_count": null,
   "id": "b7d096a2-4fee-46f2-b392-fc8592918653",
   "metadata": {
    "tags": []
   },
   "outputs": [],
   "source": [
    "from sagemaker.estimator import Estimator\n",
    "\n",
    "KIND = \"unsupervised\"\n",
    "train_job_name = \"kosimcse-roberta-base-unsupervised-2023-2023-10-05-08-45-35-241\"\n",
    "estimator = Estimator.attach(train_job_name)"
   ]
  },
  {
   "cell_type": "code",
   "execution_count": null,
   "id": "1e9eb2ee-2d43-47f3-9927-d96e63f5a609",
   "metadata": {
    "tags": []
   },
   "outputs": [],
   "source": [
    "import json, os\n",
    "\n",
    "local_model_dir = 'model_from_sagemaker'\n",
    "\n",
    "!rm -rf {local_model_dir}\n",
    "if not os.path.exists(local_model_dir):\n",
    "    os.makedirs(local_model_dir)\n",
    "\n",
    "!aws s3 cp {estimator.model_data} {local_model_dir}/model.tar.gz\n",
    "!tar -xzf {local_model_dir}/model.tar.gz -C {local_model_dir}\n",
    "!rm -rf {local_model_dir}/model.tar.gz"
   ]
  },
  {
   "cell_type": "code",
   "execution_count": null,
   "id": "978238f1-7947-43d8-9f67-945c6d545907",
   "metadata": {
    "tags": []
   },
   "outputs": [],
   "source": [
    "import glob\n",
    "import torch\n",
    "import transformers\n",
    "import numpy as np\n",
    "from collections import OrderedDict\n",
    "from transformers import BertForSequenceClassification, AutoTokenizer\n",
    "import json, os\n",
    "from serving_src.model import SimCSEConfig, SimCSEModel\n",
    "\n",
    "local_model_dir = 'model_from_sagemaker'\n",
    "with open(f'{local_model_dir}/config.json') as f:\n",
    "    json_object = json.load(f)\n",
    "\n",
    "device = torch.device('cuda:0' if torch.cuda.is_available() else 'cpu')\n",
    "base_model = json_object[\"base_model\"]\n",
    "tokenizer = AutoTokenizer.from_pretrained(base_model)\n",
    "\n",
    "config = SimCSEConfig(**json_object)\n",
    "model = SimCSEModel(config)"
   ]
  },
  {
   "cell_type": "markdown",
   "id": "40df2b77-1839-439d-9ef9-2c1220029b01",
   "metadata": {},
   "source": [
    "### Load state dict\n",
    "DDP(Distributed Data Parallel) 로 분산 훈련을 수행하였다면 key값의 module.을 삭제해야 합니다."
   ]
  },
  {
   "cell_type": "code",
   "execution_count": null,
   "id": "03a49612-16a8-4d96-b95b-36b9b577d8fc",
   "metadata": {
    "tags": []
   },
   "outputs": [],
   "source": [
    "model_filename = glob.glob(f'{local_model_dir}/*.pt')[0]\n",
    "state_dict = torch.load(model_filename)['model']\n",
    "\n",
    "new_state_dict = {}\n",
    "for key in state_dict:\n",
    "    new_key = key.replace('module.','')\n",
    "    new_state_dict[new_key] = state_dict[key]\n",
    "\n",
    "model.load_state_dict(new_state_dict)\n",
    "model = model.eval()"
   ]
  },
  {
   "cell_type": "markdown",
   "id": "9779bb62-e5e0-43d9-b122-37f3fdc73401",
   "metadata": {},
   "source": [
    "### Inference test"
   ]
  },
  {
   "cell_type": "code",
   "execution_count": null,
   "id": "8f4cf17a-e093-437f-ba85-0cfc189cbc70",
   "metadata": {
    "tags": []
   },
   "outputs": [],
   "source": [
    "from src.infer import show_embedding_score\n",
    "sentences = ['이번 주 일요일에 분당 이마트 점은 문을 여나요?',\n",
    "             '일요일에 분당 이마트는 문 열어요?',\n",
    "             '분당 이마트 점은 토요일에 몇 시까지 하나요']\n",
    "show_embedding_score(tokenizer, model.cpu(), sentences)"
   ]
  },
  {
   "cell_type": "markdown",
   "id": "1a8f8978-3aa9-463d-a365-101eec8c2297",
   "metadata": {},
   "source": [
    "<br>\n",
    "\n",
    "## 2. (Optional) Push model to Hugging Face Hub\n",
    "---"
   ]
  },
  {
   "cell_type": "code",
   "execution_count": null,
   "id": "d9cd2862-91c1-404f-88cb-12b64f86ab87",
   "metadata": {
    "tags": []
   },
   "outputs": [],
   "source": [
    "# from huggingface_hub import login\n",
    "# login()"
   ]
  },
  {
   "cell_type": "code",
   "execution_count": null,
   "id": "d04f164a-6e61-418a-82d3-e4c778dcc7d8",
   "metadata": {
    "tags": []
   },
   "outputs": [],
   "source": [
    "# hf_hub_path = f\"KoSimCSE-{KIND}-{base_model.split('/')[-1]}\"\n",
    "# print(hf_hub_path)"
   ]
  },
  {
   "cell_type": "code",
   "execution_count": null,
   "id": "87145624-4ec6-436d-8a75-beb72371b0ae",
   "metadata": {},
   "outputs": [],
   "source": [
    "# model.push_to_hub(\n",
    "#     repo_id=hf_hub_path,\n",
    "#     safe_serialization=True\n",
    "# )\n",
    "# tokenizer.push_to_hub(hf_hub_path, legacy_format='False')"
   ]
  }
 ],
 "metadata": {
  "kernelspec": {
   "display_name": "conda_pytorch_p310",
   "language": "python",
   "name": "conda_pytorch_p310"
  },
  "language_info": {
   "codemirror_mode": {
    "name": "ipython",
    "version": 3
   },
   "file_extension": ".py",
   "mimetype": "text/x-python",
   "name": "python",
   "nbconvert_exporter": "python",
   "pygments_lexer": "ipython3",
   "version": "3.10.12"
  }
 },
 "nbformat": 4,
 "nbformat_minor": 5
}
